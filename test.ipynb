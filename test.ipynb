{
 "cells": [
  {
   "cell_type": "code",
   "execution_count": 2,
   "metadata": {},
   "outputs": [],
   "source": [
    "import json\n",
    "from langchain.docstore.document import Document\n",
    "from langchain_community.vectorstores import Chroma\n",
    "from langchain_openai import OpenAIEmbeddings\n",
    "import os\n",
    "from dotenv import load_dotenv\n",
    "import requests\n",
    "persist_directory_content = './db/data_v2/content/'\n",
    "persist_directory_topic = './db/data_v2/topic/'\n",
    "persist_directory_docs = './db/data_v2/docs/'\n",
    "\n",
    "# docs = docs_content + docs_topic\n",
    "\n",
    "# OpenAI embeddings\n",
    "embedding = OpenAIEmbeddings()\n"
   ]
  },
  {
   "cell_type": "code",
   "execution_count": 21,
   "metadata": {},
   "outputs": [
    {
     "name": "stdout",
     "output_type": "stream",
     "text": [
      "['ido_upcoming_1', 'ido_upcoming_2', 'ido_upcoming_3', 'ido_upcoming_4', 'ido_upcoming_5', 'ido_upcoming_6', 'ido_upcoming_7', 'ido_upcoming_8']\n",
      "{'ids': ['ido_upcoming_1', 'ido_upcoming_2', 'ido_upcoming_3', 'ido_upcoming_4', 'ido_upcoming_5', 'ido_upcoming_6', 'ido_upcoming_7', 'ido_upcoming_8'], 'embeddings': None, 'metadatas': [{'api': 'overview_ido_upcoming', 'source': 'agoradex', 'topic': 'ido_upcoming', 'type': 'topic'}, {'api': 'overview_ido_upcoming', 'source': 'laika', 'topic': 'ido_upcoming', 'type': 'topic'}, {'api': 'overview_ido_upcoming', 'source': 'nexgami', 'topic': 'ido_upcoming', 'type': 'topic'}, {'api': 'overview_ido_upcoming', 'source': 'oxya-origin', 'topic': 'ido_upcoming', 'type': 'topic'}, {'api': 'overview_ido_upcoming', 'source': 'cryptopia', 'topic': 'ido_upcoming', 'type': 'topic'}, {'api': 'overview_ido_upcoming', 'source': 'better_fan', 'topic': 'ido_upcoming', 'type': 'topic'}, {'api': 'overview_ido_upcoming', 'source': 'axen-ai', 'topic': 'ido_upcoming', 'type': 'topic'}, {'api': 'overview_ido_upcoming', 'source': 'fanton', 'topic': 'ido_upcoming', 'type': 'topic'}], 'documents': ['Agora', 'Laika AI', 'NexGami', 'Oxya Origin', 'Cryptopia', 'Better Fan', 'Axen AI', 'Fanton'], 'uris': None, 'data': None}\n"
     ]
    },
    {
     "name": "stdout",
     "output_type": "stream",
     "text": [
      "[Document(page_content='Agora', metadata={'api': 'overview_ido_upcoming', 'source': 'agoradex', 'type': 'topic', 'topic': 'ido_upcoming'}), Document(page_content='Laika AI', metadata={'api': 'overview_ido_upcoming', 'source': 'laika', 'type': 'topic', 'topic': 'ido_upcoming'}), Document(page_content='NexGami', metadata={'api': 'overview_ido_upcoming', 'source': 'nexgami', 'type': 'topic', 'topic': 'ido_upcoming'}), Document(page_content='Oxya Origin', metadata={'api': 'overview_ido_upcoming', 'source': 'oxya-origin', 'type': 'topic', 'topic': 'ido_upcoming'}), Document(page_content='Cryptopia', metadata={'api': 'overview_ido_upcoming', 'source': 'cryptopia', 'type': 'topic', 'topic': 'ido_upcoming'}), Document(page_content='Better Fan', metadata={'api': 'overview_ido_upcoming', 'source': 'better_fan', 'type': 'topic', 'topic': 'ido_upcoming'}), Document(page_content='Axen AI', metadata={'api': 'overview_ido_upcoming', 'source': 'axen-ai', 'type': 'topic', 'topic': 'ido_upcoming'}), Document(page_content='Fanton', metadata={'api': 'overview_ido_upcoming', 'source': 'fanton', 'type': 'topic', 'topic': 'ido_upcoming'})]\n",
      "8\n",
      "['ido_upcoming_1', 'ido_upcoming_2', 'ido_upcoming_3', 'ido_upcoming_4', 'ido_upcoming_5', 'ido_upcoming_6', 'ido_upcoming_7', 'ido_upcoming_8']\n",
      "{'ids': ['ido_upcoming_1', 'ido_upcoming_2', 'ido_upcoming_3', 'ido_upcoming_4', 'ido_upcoming_5', 'ido_upcoming_6', 'ido_upcoming_7', 'ido_upcoming_8'], 'embeddings': None, 'metadatas': [{'api': 'overview_ido_upcoming', 'source': 'agoradex', 'topic': 'ido_upcoming', 'type': 'topic'}, {'api': 'overview_ido_upcoming', 'source': 'laika', 'topic': 'ido_upcoming', 'type': 'topic'}, {'api': 'overview_ido_upcoming', 'source': 'nexgami', 'topic': 'ido_upcoming', 'type': 'topic'}, {'api': 'overview_ido_upcoming', 'source': 'oxya-origin', 'topic': 'ido_upcoming', 'type': 'topic'}, {'api': 'overview_ido_upcoming', 'source': 'cryptopia', 'topic': 'ido_upcoming', 'type': 'topic'}, {'api': 'overview_ido_upcoming', 'source': 'better_fan', 'topic': 'ido_upcoming', 'type': 'topic'}, {'api': 'overview_ido_upcoming', 'source': 'axen-ai', 'topic': 'ido_upcoming', 'type': 'topic'}, {'api': 'overview_ido_upcoming', 'source': 'fanton', 'topic': 'ido_upcoming', 'type': 'topic'}], 'documents': ['Agora', 'Laika AI', 'NexGami', 'Oxya Origin', 'Cryptopia', 'Better Fan', 'Axen AI', 'Fanton'], 'uris': None, 'data': None}\n",
      "[Document(page_content='Agora', metadata={'api': 'overview_ido_upcoming', 'source': 'agoradex', 'type': 'topic', 'topic': 'ido_upcoming'}), Document(page_content='Laika AI', metadata={'api': 'overview_ido_upcoming', 'source': 'laika', 'type': 'topic', 'topic': 'ido_upcoming'}), Document(page_content='NexGami', metadata={'api': 'overview_ido_upcoming', 'source': 'nexgami', 'type': 'topic', 'topic': 'ido_upcoming'}), Document(page_content='Oxya Origin', metadata={'api': 'overview_ido_upcoming', 'source': 'oxya-origin', 'type': 'topic', 'topic': 'ido_upcoming'}), Document(page_content='Cryptopia', metadata={'api': 'overview_ido_upcoming', 'source': 'cryptopia', 'type': 'topic', 'topic': 'ido_upcoming'}), Document(page_content='Better Fan', metadata={'api': 'overview_ido_upcoming', 'source': 'better_fan', 'type': 'topic', 'topic': 'ido_upcoming'}), Document(page_content='Axen AI', metadata={'api': 'overview_ido_upcoming', 'source': 'axen-ai', 'type': 'topic', 'topic': 'ido_upcoming'}), Document(page_content='Fanton', metadata={'api': 'overview_ido_upcoming', 'source': 'fanton', 'type': 'topic', 'topic': 'ido_upcoming'})]\n",
      "8\n"
     ]
    }
   ],
   "source": [
    "def get_upcoming_IDO():\n",
    "    url = \"https://ido.gamefi.org/api/v3/pools/upcoming\"\n",
    "    headers = {\n",
    "        \"Accept\": \"application/json\",\n",
    "    }\n",
    "    reponse = requests.get(url, headers).json()\n",
    "    list_project_name = []\n",
    "    data = reponse['data']\n",
    "    for item in data:\n",
    "        list_project_name.append(\n",
    "            {\n",
    "               'name': item['name'],\n",
    "               'slug': item['slug']\n",
    "            }\n",
    "        )\n",
    "    overview = {\n",
    "        \"number_of_upcoming_IDO\": len(list_project_name),\n",
    "        \"list_project\": list_project_name\n",
    "    }\n",
    "    return overview\n",
    "\n",
    "def update_vector_topic(vector_topic):\n",
    "    # Remove old ido_upcoming topic from vector_topic\n",
    "    list_old_ids = list(filter(lambda x: x.startswith('ido_upcoming') ,vector_topic._collection.get()['ids']))\n",
    "    print(list_old_ids)\n",
    "    results =  vector_topic._collection.get(ids=list_old_ids)\n",
    "    print(results)\n",
    "    if not list_old_ids : list_old_ids = ['']\n",
    "    vector_topic._collection.delete(list_old_ids)\n",
    "    \n",
    "    # Get new ido_upcoming topic\n",
    "    new_data = get_upcoming_IDO()\n",
    "    \n",
    "    # Update new ido_upcoming topic to vector_topic\n",
    "    new_topic_ido_upcoming = new_data['list_project']\n",
    "    new_topic = []\n",
    "    for doc in new_topic_ido_upcoming:\n",
    "        document = Document(page_content=doc['name'], metadata={'api': 'overview_ido_upcoming', 'source': doc['slug'], 'type': 'topic', 'topic': 'ido_upcoming'})\n",
    "        new_topic.append(document)\n",
    "    print(new_topic)\n",
    "    print(len(new_topic))\n",
    "    vector_topic.add_documents(\n",
    "        documents=new_topic, \n",
    "        ids=[f'ido_upcoming_{i+1}' for i in range(len(new_topic_ido_upcoming))],\n",
    "    )\n",
    "    # vector_topic.persist()\n",
    "\n",
    "vectordb_topic = Chroma(persist_directory=persist_directory_topic,\n",
    "                   embedding_function=embedding)\n",
    "vectordb_docs = Chroma(persist_directory=persist_directory_docs,\n",
    "                   embedding_function=embedding)\n",
    "\n",
    "update_vector_topic(vectordb_topic)\n",
    "update_vector_topic(vectordb_docs)"
   ]
  },
  {
   "cell_type": "code",
   "execution_count": 17,
   "metadata": {},
   "outputs": [],
   "source": [
    "vectordb_topic = Chroma(persist_directory=persist_directory_topic,\n",
    "                   embedding_function=embedding)\n",
    "vectordb_docs = Chroma(persist_directory=persist_directory_docs,\n",
    "                   embedding_function=embedding)"
   ]
  },
  {
   "cell_type": "code",
   "execution_count": 19,
   "metadata": {},
   "outputs": [
    {
     "name": "stdout",
     "output_type": "stream",
     "text": [
      "['ido_upcoming_1', 'ido_upcoming_2', 'ido_upcoming_3', 'ido_upcoming_4', 'ido_upcoming_5', 'ido_upcoming_6', 'ido_upcoming_7', 'ido_upcoming_8']\n"
     ]
    }
   ],
   "source": [
    "list_old_ids = list(filter(lambda x: x.startswith('ido_upcoming') ,vectordb_topic._collection.get()['ids']))\n",
    "print(list_old_ids)\n",
    "results =  vectordb_topic._collection.get(ids=list_old_ids)"
   ]
  }
 ],
 "metadata": {
  "kernelspec": {
   "display_name": "venv",
   "language": "python",
   "name": "python3"
  },
  "language_info": {
   "codemirror_mode": {
    "name": "ipython",
    "version": 3
   },
   "file_extension": ".py",
   "mimetype": "text/x-python",
   "name": "python",
   "nbconvert_exporter": "python",
   "pygments_lexer": "ipython3",
   "version": "3.10.12"
  }
 },
 "nbformat": 4,
 "nbformat_minor": 2
}
